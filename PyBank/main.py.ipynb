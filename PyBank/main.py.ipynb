{
 "cells": [
  {
   "cell_type": "code",
   "execution_count": 1,
   "metadata": {},
   "outputs": [],
   "source": [
    "import csv\n",
    "import numpy as np"
   ]
  },
  {
   "cell_type": "code",
   "execution_count": 2,
   "metadata": {},
   "outputs": [
    {
     "name": "stdout",
     "output_type": "stream",
     "text": [
      "\n",
      "Financial Analysis\n",
      "----------------------------\n",
      "Total Months: 86\n",
      "Total: $38382578\n",
      "Average  Change: $446309\n",
      "Greatest Increase in Profits: Feb-2017 (671099)\n",
      "Greatest Decrease in Profits: Dec-2016 (60988)\n",
      "\n"
     ]
    }
   ],
   "source": [
    "months = []\n",
    "revenue = []\n",
    "total_months = 0\n",
    "total_revenue = 0\n",
    "previous = 0\n",
    "limit = float('inf')\n",
    "rev = 0\n",
    "month_change = 0\n",
    "greatest_increase = [\"\", 0]\n",
    "greatest_decrease = [\"\", 0]\n",
    "\n",
    "with open(\"../Data/budget_data.csv\", newline=\"\") as csvfile:\n",
    "    csvreader = csv.reader(csvfile, delimiter=\",\")\n",
    "    header = next(csvreader)\n",
    "    \n",
    "    for row in csvreader:\n",
    "        month_change = int(row[1]) - previous\n",
    "        if row[0] not in months:\n",
    "            months.append(row[0])\n",
    "            total_months = total_months + 1\n",
    "        if row[1] not in revenue:\n",
    "            revenue.append(row[1])\n",
    "            total_revenue = total_revenue + int(row[1])\n",
    "        if month_change > previous: \n",
    "            greatest_increase[0] = row[0]\n",
    "            greatest_increase[1] = row[1]\n",
    "        if month_change < limit:\n",
    "            greatest_decrease[0] = row[0]\n",
    "            greatest_decrease[1] = row[1]\n",
    "        previous = int(row[1])\n",
    "        limit = int(row[1])\n",
    "    \n",
    "avg_change = int(total_revenue / len(revenue))\n",
    "            \n",
    "full_data = np.column_stack((revenue))\n",
    "row_index = np.argmax(revenue, axis=0)\n",
    "\n",
    "text=f\"\"\"\n",
    "Financial Analysis\n",
    "----------------------------\n",
    "Total Months: {total_months}\n",
    "Total: ${total_revenue}\n",
    "Average  Change: ${avg_change}\n",
    "Greatest Increase in Profits: {greatest_increase[0]} ({greatest_increase[1]})\n",
    "Greatest Decrease in Profits: {greatest_decrease[0]} ({greatest_decrease[1]})\n",
    "\"\"\"\n",
    "\n",
    "print(text)"
   ]
  },
  {
   "cell_type": "code",
   "execution_count": 3,
   "metadata": {},
   "outputs": [],
   "source": [
    "Pybank = open(\"Pybank.txt\", \"w\")\n",
    "Pybank.write(text)\n",
    "Pybank.close()"
   ]
  },
  {
   "cell_type": "code",
   "execution_count": 4,
   "metadata": {},
   "outputs": [
    {
     "name": "stdout",
     "output_type": "stream",
     "text": [
      "\r\n",
      "Financial Analysis\r\n",
      "----------------------------\r\n",
      "Total Months: 86\r\n",
      "Total: $38382578\r\n",
      "Average  Change: $446309\r\n",
      "Greatest Increase in Profits: Feb-2017 (671099)\r\n",
      "Greatest Decrease in Profits: Dec-2016 (60988)\r\n"
     ]
    }
   ],
   "source": [
    "cat Pybank.txt"
   ]
  }
 ],
 "metadata": {
  "kernelspec": {
   "display_name": "Python 3",
   "language": "python",
   "name": "python3"
  },
  "language_info": {
   "codemirror_mode": {
    "name": "ipython",
    "version": 3
   },
   "file_extension": ".py",
   "mimetype": "text/x-python",
   "name": "python",
   "nbconvert_exporter": "python",
   "pygments_lexer": "ipython3",
   "version": "3.7.4"
  }
 },
 "nbformat": 4,
 "nbformat_minor": 2
}
