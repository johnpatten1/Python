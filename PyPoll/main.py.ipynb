{
 "cells": [
  {
   "cell_type": "code",
   "execution_count": 69,
   "metadata": {},
   "outputs": [],
   "source": [
    "import csv\n",
    "import operator"
   ]
  },
  {
   "cell_type": "code",
   "execution_count": 70,
   "metadata": {},
   "outputs": [
    {
     "name": "stdout",
     "output_type": "stream",
     "text": [
      "O'Tooley\n",
      "['Khan', 'Correy', 'Li', \"O'Tooley\"]\n",
      "3521001\n",
      "{'Khan': 2218231, 'Correy': 704200, 'Li': 492940, \"O'Tooley\": 105630}\n",
      "Khan\n",
      "Khan\n"
     ]
    }
   ],
   "source": [
    "total_votes = 0\n",
    "candidates = []\n",
    "vote_roster = {}\n",
    "\n",
    "with open(\"../Data/election_data.csv\", newline=\"\") as csvfile:\n",
    "    csvreader = csv.reader(csvfile, delimiter=\",\")\n",
    "    header = next(csvreader)\n",
    "    \n",
    "    for row in csvreader:\n",
    "        candidate = row[2]\n",
    "        total_votes = total_votes + 1\n",
    "        if candidate not in candidates:\n",
    "            candidates.append(candidate)\n",
    "            vote_roster[candidate] = 1\n",
    "        else: vote_roster[candidate] = vote_roster[candidate] + 1\n",
    "        vote_roster.values()\n",
    "\n",
    "winner = max(vote_roster.items(), key=operator.itemgetter(1))[0]\n",
    "\n",
    "percent_votes = {k: v / total for total in (sum(vote_roster.values()),) for k, v in vote_roster.items()}\n",
    "                  \n",
    "print(candidate)\n",
    "print(candidates)\n",
    "print(total_votes)\n",
    "print(vote_roster)\n",
    "print(winner)\n",
    "print(list(vote_roster.keys())[0])"
   ]
  },
  {
   "cell_type": "code",
   "execution_count": 72,
   "metadata": {},
   "outputs": [
    {
     "name": "stdout",
     "output_type": "stream",
     "text": [
      "\n",
      "Election Results\n",
      "----------------------------\n",
      "Total Votes: 3521001\n",
      "----------------------------\n",
      "Khan: 63.000% (2218231)\n",
      "Correy: 20.000% (704200)\n",
      "Li: 14.000% (492940)\n",
      "O'Tooley: 3.000% (105630)\n",
      "----------------------------\n",
      "Winner: Khan\n",
      "\n"
     ]
    }
   ],
   "source": [
    "text=f\"\"\"\n",
    "Election Results\n",
    "----------------------------\n",
    "Total Votes: {total_votes}\n",
    "----------------------------\n",
    "{list(vote_roster.keys())[0]}: {\"{0:.3%}\".format(float(list(percent_votes.values())[0]))} ({list(vote_roster.values())[0]})\n",
    "{list(vote_roster.keys())[1]}: {\"{0:.3%}\".format(float(list(percent_votes.values())[1]))} ({list(vote_roster.values())[1]})\n",
    "{list(vote_roster.keys())[2]}: {\"{0:.3%}\".format(float(list(percent_votes.values())[2]))} ({list(vote_roster.values())[2]})\n",
    "{list(vote_roster.keys())[3]}: {\"{0:.3%}\".format(float(list(percent_votes.values())[3]))} ({list(vote_roster.values())[3]})\n",
    "----------------------------\n",
    "Winner: {winner}\n",
    "\"\"\"\n",
    "\n",
    "print(text)"
   ]
  },
  {
   "cell_type": "code",
   "execution_count": 77,
   "metadata": {},
   "outputs": [],
   "source": [
    "Pypoll = open(\"Pypoll.txt\", \"w\")\n",
    "Pypoll.write(text)\n",
    "Pypoll.close()"
   ]
  },
  {
   "cell_type": "code",
   "execution_count": 79,
   "metadata": {},
   "outputs": [
    {
     "name": "stdout",
     "output_type": "stream",
     "text": [
      "\r\n",
      "Election Results\r\n",
      "----------------------------\r\n",
      "Total Votes: 3521001\r\n",
      "----------------------------\r\n",
      "Khan: 63.000% (2218231)\r\n",
      "Correy: 20.000% (704200)\r\n",
      "Li: 14.000% (492940)\r\n",
      "O'Tooley: 3.000% (105630)\r\n",
      "----------------------------\r\n",
      "Winner: Khan\r\n"
     ]
    }
   ],
   "source": [
    "cat Pypoll.txt"
   ]
  }
 ],
 "metadata": {
  "kernelspec": {
   "display_name": "Python 3",
   "language": "python",
   "name": "python3"
  },
  "language_info": {
   "codemirror_mode": {
    "name": "ipython",
    "version": 3
   },
   "file_extension": ".py",
   "mimetype": "text/x-python",
   "name": "python",
   "nbconvert_exporter": "python",
   "pygments_lexer": "ipython3",
   "version": "3.7.4"
  }
 },
 "nbformat": 4,
 "nbformat_minor": 2
}
